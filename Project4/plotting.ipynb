{
 "cells": [
  {
   "cell_type": "code",
   "execution_count": 31,
   "metadata": {},
   "outputs": [],
   "source": [
    "import numpy as np\n",
    "import pandas as pd\n",
    "import matplotlib.pyplot as plt\n",
    "from part2 import createInputOutput\n",
    "from part1 import create_sequences\n",
    "import re"
   ]
  },
  {
   "cell_type": "code",
   "execution_count": null,
   "metadata": {},
   "outputs": [],
   "source": [
    "\n",
    "def atoi(text):\n",
    "    return int(text) if text.isdigit() else text\n",
    "    \n",
    "def natural_keys(text):\n",
    "    '''\n",
    "    alist.sort(key=natural_keys) sorts in human order\n",
    "    http://nedbatchelder.com/blog/200712/human_sorting.html\n",
    "    (See Toothy's implementation in the comments)\n",
    "    '''\n",
    "    return [ atoi(c) for c in re.split(r'(\\d+)', text) ]"
   ]
  },
  {
   "cell_type": "code",
   "execution_count": null,
   "metadata": {},
   "outputs": [],
   "source": [
    "def plot_training(folder):\n",
    "    \n",
    "    \n",
    "    files = os.listdir(folder)\n",
    "    files.sort(key=natural_keys)\n",
    "    m_infos = {}\n",
    "\n",
    "    for f in files:\n",
    "        m_type_end = f.find('(epochs')\n",
    "        e_end = f.find(')(hidden:')\n",
    "        h_end = f.find(')(w:')\n",
    "        w_end = f.find(',s:')\n",
    "\n",
    "\n",
    "        m_info = {}\n",
    "        m_info['epochs'] = f[m_type_end+8:e_end]\n",
    "        m_info['hidden'] = f[e_end+9:h_end]\n",
    "        m_info['w'] = f[h_end+4:w_end]\n",
    "        m_info['s'] = f[w_end+3:-5]\n",
    "        \n",
    "        hist = pd.read_csv(folder + f, index_col=0)\n",
    "        hist = hist.to_dict('split')\n",
    "        m_info['hist'] = dict(zip(hist['index'],hist['data']))\n",
    "\n",
    "        m_type = f[0:m_type_end]\n",
    "\n",
    "        if m_type in m_infos:\n",
    "            m_infos[m_type].append(m_info)\n",
    "        else:\n",
    "            m_infos[m_type] = []\n",
    "            m_infos[m_type].append(m_info)\n",
    "\n",
    "\n",
    "    for m_type in m_infos:\n",
    "        for run in m_infos[m_type]:\n",
    "            plt.plot(run['hist']['loss'], label=f\"h:{run['hidden']},w:{run['w']},s:{run['s']}\")\n",
    "        plt.title(m_type)\n",
    "        plt.xlabel('Epochs')\n",
    "        plt.ylabel('Loss')\n",
    "        plt.legend()\n",
    "        plt.savefig(m_type + '.jpeg')\n",
    "        plt.show()\n",
    "\n",
    "    for m_type in m_infos:\n",
    "        run = m_infos[m_type][-1]\n",
    "        plt.plot(run['hist']['loss'], label=m_type)\n",
    "    plt.title(\"Comparing Best of All Models\")\n",
    "    plt.xlabel('Epochs')\n",
    "    plt.ylabel('Loss')\n",
    "    plt.legend()\n",
    "    plt.savefig(\"Comparing Best of All Models.jpeg\")\n",
    "    plt.show()\n",
    "\n",
    "\n",
    "plot_training('./saved_histories/')"
   ]
  }
 ],
 "metadata": {
  "kernelspec": {
   "display_name": "Python 3",
   "language": "python",
   "name": "python3"
  },
  "language_info": {
   "codemirror_mode": {
    "name": "ipython",
    "version": 3
   },
   "file_extension": ".py",
   "mimetype": "text/x-python",
   "name": "python",
   "nbconvert_exporter": "python",
   "pygments_lexer": "ipython3",
   "version": "3.9.3"
  },
  "orig_nbformat": 2
 },
 "nbformat": 4,
 "nbformat_minor": 2
}