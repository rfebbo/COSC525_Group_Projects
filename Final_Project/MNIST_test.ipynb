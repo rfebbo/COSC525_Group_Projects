{
 "cells": [
  {
   "cell_type": "code",
   "execution_count": 1,
   "metadata": {},
   "outputs": [
    {
     "name": "stdout",
     "output_type": "stream",
     "text": [
      "INFO:tensorflow:Enabling eager execution\n",
      "INFO:tensorflow:Enabling v2 tensorshape\n",
      "INFO:tensorflow:Enabling resource variables\n",
      "INFO:tensorflow:Enabling tensor equality\n",
      "INFO:tensorflow:Enabling control flow v2\n"
     ]
    }
   ],
   "source": [
    "\n",
    "import tensorflow as tf\n",
    "from tensorflow import keras as k\n",
    "from tensorflow.keras import layers\n",
    "from tensorflow.keras import optimizers\n",
    "from tensorflow.keras import Input\n",
    "from tensorflow.keras import Model\n",
    "import numpy as np\n",
    "import matplotlib.pyplot as plt\n",
    "gpus = tf.config.experimental.list_physical_devices('GPU')\n",
    "for gpu in gpus:\n",
    "  tf.config.experimental.set_memory_growth(gpu, True)\n",
    "\n",
    "labels = ['airplane', 'automobile', 'bird', 'cat', 'deer', 'dog', 'frog', 'horse', 'ship', 'truck']"
   ]
  },
  {
   "cell_type": "code",
   "execution_count": 2,
   "metadata": {},
   "outputs": [],
   "source": [
    "def separate_classes(x_train, y_train, show=False):\n",
    "    classes = []\n",
    "    y_train = y_train.reshape((-1))\n",
    "    \n",
    "    for n in range(10):\n",
    "        classes.append(x_train[y_train == n])\n",
    "        \n",
    "    if show:\n",
    "        for n in range(10):\n",
    "            print(f'there are {len(classes[n])} pictures of class {labels[n]}.')\n",
    "        \n",
    "        samples = np.random.randint(0,len(classes[0]),5)\n",
    "        cl = np.random.randint(len(classes),5)\n",
    "        for s,c in zip(samples,cl):\n",
    "            plt.imshow(classes[c][s])\n",
    "            plt.title(f'image of a {labels[int(c)]}')\n",
    "            plt.show()\n",
    "    return classes"
   ]
  },
  {
   "cell_type": "code",
   "execution_count": 3,
   "metadata": {},
   "outputs": [],
   "source": [
    "# dataset of classes 0-8\n",
    "def create_dataset_1(classes, n_samples, show=False):\n",
    "    d_1 = classes[0:9]\n",
    "    d_1 = np.asarray(d_1).reshape((n_samples*9, 32,32,3))\n",
    "    encodings = np.zeros((9,9))\n",
    "    for i in range(9):\n",
    "        encodings[i][i] = 1\n",
    "\n",
    "    l_1 = np.repeat(encodings,n_samples,axis=0)\n",
    "    shuffler = np.random.permutation(len(l_1))\n",
    "    d_1 = d_1[shuffler]\n",
    "    l_1 = l_1[shuffler]\n",
    "    if show:\n",
    "        print(np.argmax(l_1[0]))\n",
    "        \n",
    "        samples = np.random.randint(0, len(d_1),5)\n",
    "        for s in samples:\n",
    "            plt.imshow(d_1[s])\n",
    "            plt.title(f'image of a {labels[int(np.argmax(l_1[s]))]}')\n",
    "            plt.show()\n",
    "    return d_1, l_1\n"
   ]
  },
  {
   "cell_type": "code",
   "execution_count": 4,
   "metadata": {},
   "outputs": [],
   "source": [
    "def create_dataset_2(classes, n_samples, show=False):\n",
    "    d_2 = np.asarray(classes[9])\n",
    "    for c in classes[0:9]:\n",
    "        selection = np.random.choice(n_samples, 555, replace=False)\n",
    "        d_2 = np.append(d_2,c[selection])\n",
    "\n",
    "    d_2 = d_2.reshape(n_samples+555*9,32,32,3)\n",
    "\n",
    "\n",
    "    \n",
    "    l_2 = np.repeat(1,n_samples,axis=0)\n",
    "    l_2 = np.append(l_2, np.repeat(0,555*9,axis=0))\n",
    "    shuffler = np.random.permutation(len(l_2))\n",
    "    d_2 = d_2[shuffler]\n",
    "    l_2 = l_2[shuffler]\n",
    "    if show:\n",
    "        \n",
    "        samples = np.random.randint(0, len(d_2), 5)\n",
    "        for s in samples:\n",
    "            plt.imshow(d_2[s])\n",
    "            if (l_2[s] == 1):\n",
    "                plt.title(f'image of a truck')\n",
    "            elif (l_2[s] == 0):\n",
    "                plt.title(f'NOT an image of a truck')\n",
    "            plt.show()\n",
    "            \n",
    "    return d_2, l_2"
   ]
  },
  {
   "cell_type": "code",
   "execution_count": 5,
   "metadata": {},
   "outputs": [],
   "source": [
    "def build_model_1():\n",
    "    inputs = Input(shape = (32,32,3))\n",
    "    x = layers.Conv2D(32,3,activation='relu', padding='valid')(inputs)\n",
    "    x = layers.Conv2D(32,3,activation='relu', padding='valid')(x)\n",
    "    x = layers.MaxPool2D(pool_size=(3,3), strides=(1,1), padding='valid',data_format=None)(x)\n",
    "    x = layers.Conv2D(64,3,activation='relu', padding='valid')(x)\n",
    "    x = layers.Conv2D(64,3,activation='relu', padding='valid')(x)\n",
    "    x = layers.MaxPool2D(pool_size=(3,3), strides=(1,1), padding='valid',data_format=None)(x)\n",
    "    x = layers.Conv2D(128,3,activation='relu', padding='valid')(x)\n",
    "    x = layers.Conv2D(128,3,activation='relu', padding='valid')(x)\n",
    "    x = layers.MaxPool2D(pool_size=(3,3), strides=(1,1), padding='valid',data_format=None)(x)\n",
    "    x = layers.Flatten()(x)\n",
    "    x = layers.Dense(100,activation='relu')(x)\n",
    "    output = layers.Dense(9, activation = 'softmax')(x)\n",
    "\n",
    "    model = Model(inputs=inputs, outputs = output)\n",
    "\n",
    "    return model\n",
    "\n",
    "def build_model_2():\n",
    "    inputs = Input(shape = (32,32,3))\n",
    "    x = layers.Conv2D(32,3,activation='relu', padding='valid')(inputs)\n",
    "    x = layers.Conv2D(32,3,activation='relu', padding='valid')(x)\n",
    "    x = layers.MaxPool2D(pool_size=(3,3), strides=(1,1), padding='valid',data_format=None)(x)\n",
    "    x = layers.Conv2D(64,3,activation='relu', padding='valid')(x)\n",
    "    x = layers.Conv2D(64,3,activation='relu', padding='valid')(x)\n",
    "    x = layers.MaxPool2D(pool_size=(3,3), strides=(1,1), padding='valid',data_format=None)(x)\n",
    "    x = layers.Conv2D(128,3,activation='relu', padding='valid')(x)\n",
    "    x = layers.Conv2D(128,3,activation='relu', padding='valid')(x)\n",
    "    x = layers.MaxPool2D(pool_size=(3,3), strides=(1,1), padding='valid',data_format=None)(x)\n",
    "    x = layers.Flatten()(x)\n",
    "    x = layers.Dense(100,activation='relu')(x)\n",
    "    output = layers.Dense(1, activation = 'softmax')(x)\n",
    "\n",
    "    model = Model(inputs=inputs, outputs = output)\n",
    "\n",
    "    return model\n",
    "\n",
    "def test_model(model,loss,xtrain,ytrain,batch_size, epochs):\n",
    "    lr = 0.001\n",
    "    momentum = 0.9\n",
    "\n",
    "    sgd  = optimizers.SGD(learning_rate=lr, momentum=momentum)\n",
    "#     loss = k.losses.CategoricalCrossentropy()\n",
    "\n",
    "\n",
    "    model.compile(loss=loss, optimizer = sgd, metrics=['accuracy'])\n",
    "    history = model.fit(xtrain, ytrain, batch_size=batch_size, epochs=epochs, verbose=True)\n",
    "    \n",
    "    return model\n",
    "\n",
    "# print(np.asarray(xTrain).shape)\n",
    "\n"
   ]
  },
  {
   "cell_type": "code",
   "execution_count": 6,
   "metadata": {
    "scrolled": false
   },
   "outputs": [
    {
     "data": {
      "image/png": "[encoded data removed]",
      "text/plain": [
       "<Figure size 432x288 with 1 Axes>"
      ]
     },
     "metadata": {
      "needs_background": "light"
     },
     "output_type": "display_data"
    },
    {
     "data": {
      "image/png": "[encoded data removed]",
      "text/plain": [
       "<Figure size 432x288 with 1 Axes>"
      ]
     },
     "metadata": {
      "needs_background": "light"
     },
     "output_type": "display_data"
    },
    {
     "data": {
      "image/png": "[encoded data removed]",
      "text/plain": [
       "<Figure size 432x288 with 1 Axes>"
      ]
     },
     "metadata": {
      "needs_background": "light"
     },
     "output_type": "display_data"
    },
    {
     "data": {
      "image/png": "[encoded data removed]",
      "text/plain": [
       "<Figure size 432x288 with 1 Axes>"
      ]
     },
     "metadata": {
      "needs_background": "light"
     },
     "output_type": "display_data"
    },
    {
     "data": {
      "image/png": "[encoded data removed]",
      "text/plain": [
       "<Figure size 432x288 with 1 Axes>"
      ]
     },
     "metadata": {
      "needs_background": "light"
     },
     "output_type": "display_data"
    }
   ],
   "source": [
    "(x_train, y_train), (x_test, y_test) = tf.keras.datasets.cifar10.load_data()\n",
    "# plt.imshow(x_train[0])\n",
    "# plt.title(f'image of a {labels[int(y_train[0])]}')\n",
    "# plt.show()\n",
    "\n",
    "classes = separate_classes(x_train,y_train)\n",
    "\n",
    "d_1, l_1 = create_dataset_1(classes, len(classes[0]))\n",
    "d_2, l_2 = create_dataset_2(classes, len(classes[0]), True)\n",
    "\n"
   ]
  },
  {
   "cell_type": "code",
   "execution_count": 7,
   "metadata": {},
   "outputs": [
    {
     "name": "stdout",
     "output_type": "stream",
     "text": [
      "Epoch 1/10\n",
      "352/352 [==============================] - 8s 9ms/step - loss: 2.0045 - accuracy: 0.2689\n",
      "Epoch 2/10\n",
      "352/352 [==============================] - 3s 9ms/step - loss: 1.4772 - accuracy: 0.4618\n",
      "Epoch 3/10\n",
      "352/352 [==============================] - 3s 9ms/step - loss: 1.2982 - accuracy: 0.5325\n",
      "Epoch 4/10\n",
      "352/352 [==============================] - 3s 9ms/step - loss: 1.1898 - accuracy: 0.5736\n",
      "Epoch 5/10\n",
      "352/352 [==============================] - 3s 9ms/step - loss: 1.1050 - accuracy: 0.6099\n",
      "Epoch 6/10\n",
      "352/352 [==============================] - 3s 9ms/step - loss: 1.0490 - accuracy: 0.6275\n",
      "Epoch 7/10\n",
      "352/352 [==============================] - 3s 9ms/step - loss: 0.9680 - accuracy: 0.6582\n",
      "Epoch 8/10\n",
      "352/352 [==============================] - 3s 9ms/step - loss: 0.9258 - accuracy: 0.6735\n",
      "Epoch 9/10\n",
      "352/352 [==============================] - 3s 9ms/step - loss: 0.8632 - accuracy: 0.6952\n",
      "Epoch 10/10\n",
      "352/352 [==============================] - 3s 9ms/step - loss: 0.8081 - accuracy: 0.7164\n"
     ]
    }
   ],
   "source": [
    "# m_1 = test_model(build_model_1(),'categorical_crossentropy',d_1, l_1, 128 ,10)"
   ]
  },
  {
   "cell_type": "code",
   "execution_count": 13,
   "metadata": {},
   "outputs": [
    {
     "name": "stdout",
     "output_type": "stream",
     "text": [
      "Epoch 1/10\n",
      "313/313 [==============================] - 3s 6ms/step - loss: 1.0394 - accuracy: 0.5003\n",
      "Epoch 2/10\n",
      "313/313 [==============================] - 2s 6ms/step - loss: 0.5856 - accuracy: 0.5003\n",
      "Epoch 3/10\n",
      "313/313 [==============================] - 2s 6ms/step - loss: 0.5081 - accuracy: 0.5003\n",
      "Epoch 4/10\n",
      "313/313 [==============================] - 2s 6ms/step - loss: 0.4781 - accuracy: 0.5003\n",
      "Epoch 5/10\n",
      "313/313 [==============================] - 2s 6ms/step - loss: 0.4620 - accuracy: 0.5003\n",
      "Epoch 6/10\n",
      "313/313 [==============================] - 2s 6ms/step - loss: 0.4438 - accuracy: 0.5003\n",
      "Epoch 7/10\n",
      "313/313 [==============================] - 2s 6ms/step - loss: 0.4345 - accuracy: 0.5003\n",
      "Epoch 8/10\n",
      "313/313 [==============================] - 2s 6ms/step - loss: 0.4206 - accuracy: 0.5003\n",
      "Epoch 9/10\n",
      "313/313 [==============================] - 2s 6ms/step - loss: 0.4128 - accuracy: 0.5003\n",
      "Epoch 10/10\n",
      "313/313 [==============================] - 2s 6ms/step - loss: 0.4023 - accuracy: 0.5003\n"
     ]
    }
   ],
   "source": [
    "m_2 = test_model(build_model_2(),'binary_crossentropy',d_2, l_2, 32 ,10)"
   ]
  },
  {
   "cell_type": "code",
   "execution_count": 9,
   "metadata": {},
   "outputs": [],
   "source": [
    "y_train_1 = y_train.reshape((-1))\n",
    "# p = m_1.predict(x_train[y_train_1 == 9])"
   ]
  },
  {
   "cell_type": "code",
   "execution_count": 10,
   "metadata": {},
   "outputs": [],
   "source": [
    "# counts = np.zeros(10)\n",
    "# for pred in p:\n",
    "#     counts[np.argmax(pred)] += 1\n",
    "\n",
    "# for i, c in enumerate(counts):\n",
    "#     print(f'there were {int(c)} predictions of {labels[i]}')"
   ]
  },
  {
   "cell_type": "code",
   "execution_count": null,
   "metadata": {},
   "outputs": [],
   "source": []
  },
  {
   "cell_type": "code",
   "execution_count": 11,
   "metadata": {},
   "outputs": [],
   "source": [
    "\n",
    "# plt.imshow(d_2[0])\n",
    "# plt.title(f'image of a {labels[int(y_train[0])]}')\n",
    "# plt.show()"
   ]
  },
  {
   "cell_type": "code",
   "execution_count": 12,
   "metadata": {},
   "outputs": [],
   "source": [
    "# test = np.random.choice(10,8,replace=False)\n",
    "# print(test)\n",
    "# labels[np.arange(len(labels)) == test]"
   ]
  },
  {
   "cell_type": "code",
   "execution_count": null,
   "metadata": {},
   "outputs": [],
   "source": []
  }
 ],
 "metadata": {
  "kernelspec": {
   "display_name": "Python 3",
   "language": "python",
   "name": "python3"
  },
  "language_info": {
   "codemirror_mode": {
    "name": "ipython",
    "version": 3
   },
   "file_extension": ".py",
   "mimetype": "text/x-python",
   "name": "python",
   "nbconvert_exporter": "python",
   "pygments_lexer": "ipython3",
   "version": "3.7.10"
  },
  "metadata": {
   "interpreter": {
    "hash": "f014c7017d32fa88f7af5ca6dea2e696360d5112c0128d5a3464b34ee671c122"
   }
  }
 },
 "nbformat": 4,
 "nbformat_minor": 2
}
