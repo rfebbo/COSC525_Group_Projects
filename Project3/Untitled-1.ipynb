{
 "cells": [
  {
   "cell_type": "code",
   "execution_count": null,
   "metadata": {},
   "outputs": [],
   "source": [
    "from task5 import build_model_5\n",
    "from read_data import read_data\n",
    "from tensorflow import keras\n",
    "\n",
    "from tensorflow.keras import backend as K\n",
    "from tensorflow.keras import optimizers\n",
    "import tensorflow as tf"
   ]
  },
  {
   "cell_type": "code",
   "execution_count": null,
   "metadata": {},
   "outputs": [],
   "source": [
    "\n",
    "d = read_data()"
   ]
  },
  {
   "cell_type": "code",
   "execution_count": null,
   "metadata": {},
   "outputs": [],
   "source": [
    "x = d['train']\n",
    "val_data = d['val']\n",
    "\n",
    "model, z_log_var, z_mean, inputs, outputs = build_model_5()\n",
    "lr = 0.05\n",
    "momentum = 0.9\n",
    "batch_size =  128\n",
    "epochs = 100\n",
    "#setting loss\n",
    "reconstruction_loss = keras.losses.mse(inputs, outputs)\n",
    "reconstruction_loss *=1\n",
    "kl_loss = K.exp(z_log_var) + K.square(z_mean) - z_log_var - 1\n",
    "kl_loss = K.sum(kl_loss, axis=-1)\n",
    "kl_loss *= 0.001\n",
    "vae_loss = K.mean(reconstruction_loss + kl_loss)\n",
    "model.add_loss(vae_loss)\n",
    "model.compile(optimizer='adam')\n",
    "\n",
    "# sgd = optimizers.SGD(lr=lr,momentum=momentum)\n",
    "# loss = tf.keras.losses.CategoricalCrossentropy()\n",
    "\n",
    "# model.compile(loss=loss, optimizer=sgd, metrics=['accuracy'])\n",
    "# print(x[0])\n",
    "history=model.fit(x,batch_size=batch_size,epochs=epochs, verbose=True,validation_data=(val_data, None))\n",
    "\n",
    "# pd.DataFrame.from_dict(history.history,orient='index').to_csv('./saved_runs/'+name + '(lr_' + str(lr) + ')(batch_' + str(batch_size) + ')(epoch_' + str(epochs) + ')' + '.csv')\n"
   ]
  },
  {
   "cell_type": "code",
   "execution_count": null,
   "metadata": {},
   "outputs": [],
   "source": [
    "keras.utils.plot_model(model, \"my_first_model_with_shape_info.png\", show_shapes=True)"
   ]
  },
  {
   "cell_type": "code",
   "execution_count": null,
   "metadata": {},
   "outputs": [],
   "source": []
  }
 ],
 "metadata": {
  "kernelspec": {
   "display_name": "Python 3.9.2 64-bit",
   "name": "python392jvsc74a57bd0767d51c1340bd893661ea55ea3124f6de3c7a262a8b4abca0554b478b1e2ff90"
  },
  "language_info": {
   "codemirror_mode": {
    "name": "ipython",
    "version": 3
   },
   "file_extension": ".py",
   "mimetype": "text/x-python",
   "name": "python",
   "nbconvert_exporter": "python",
   "pygments_lexer": "ipython3",
   "version": "3.9.2"
  },
  "metadata": {
   "interpreter": {
    "hash": "767d51c1340bd893661ea55ea3124f6de3c7a262a8b4abca0554b478b1e2ff90"
   }
  },
  "orig_nbformat": 2
 },
 "nbformat": 4,
 "nbformat_minor": 2
}