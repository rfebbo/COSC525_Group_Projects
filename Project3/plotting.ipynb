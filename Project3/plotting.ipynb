{
 "cells": [
  {
   "cell_type": "code",
   "execution_count": 1,
   "metadata": {},
   "outputs": [],
   "source": [
    "import numpy as np\n",
    "import os\n",
    "import matplotlib.pyplot as plt\n",
    "import matplotlib.ticker as mtick\n",
    "from matplotlib.patches import Patch\n",
    "from matplotlib.lines import Line2D\n",
    "import pandas as pd\n",
    "from datetime import datetime\n",
    "import re\n",
    "import tensorflow as tf\n",
    "from read_data import read_data"
   ]
  },
  {
   "cell_type": "code",
   "execution_count": null,
   "metadata": {},
   "outputs": [],
   "source": [
    "def create_legend(lrs, clrs):\n",
    "    legend_elements = []\n",
    "    for c, lr in zip(clrs,lrs):\n",
    "        legend_elements.append(Line2D([0], [0], color=c, lw=4, label='lr=' + lr))\n",
    "\n",
    "    legend_elements.append(Line2D([0], [0], dashes=(2,1), lw=4, color='k', label='training'))\n",
    "    legend_elements.append(Line2D([0], [0], lw=4, color='k', label='validation'))\n",
    "\n",
    "    return legend_elements"
   ]
  },
  {
   "cell_type": "code",
   "execution_count": null,
   "metadata": {},
   "outputs": [],
   "source": [
    "def plot_tr_vs_val(lrs, hists, clrs, tr_key, val_key, title, splot, shared_ax, bottom, save):\n",
    "    end = 100\n",
    "    max_loss = 2\n",
    "\n",
    "    if shared_ax is None:\n",
    "        rv = plt.subplot(splot[0],splot[1],splot[2])\n",
    "        plt.ylabel(tr_key)\n",
    "    else:\n",
    "        rv = plt.subplot(splot[0],splot[1],splot[2], sharey=shared_ax)\n",
    "        plt.setp(rv.get_yticklabels(), visible=False)\n",
    "        plt.subplots_adjust(wspace = .05)\n",
    "\n",
    "    max_val = 0\n",
    "    best_val_lr = 0\n",
    "    max_tr = 0\n",
    "    best_tr_lr = 0\n",
    "\n",
    "    for c, lr, hist in zip(clrs,lrs,hists):\n",
    "\n",
    "        if max_val < np.max(hist[val_key]):\n",
    "            max_val = np.max(hist[val_key])\n",
    "            best_val_lr = lr\n",
    "\n",
    "        if max_tr < np.max(hist[tr_key]):\n",
    "            max_tr = np.max(hist[tr_key])\n",
    "            best_tr_lr = lr\n",
    "\n",
    "        plt.plot(hist[tr_key][0:end], c +'--')\n",
    "        plt.plot(hist[val_key][0:end], c+ '-')\n",
    "\n",
    "    print(\"max for \" + str(tr_key) + \" \" + str(max_tr) + \" with lr=\" + str(best_tr_lr))\n",
    "    print(\"max for \" + str(val_key) + \" \" + str(max_val) + \" with lr=\" + str(best_val_lr))\n",
    "    plt.title(title)\n",
    "    if (bottom):\n",
    "        plt.xlabel('Epochs')\n",
    "    else:\n",
    "        plt.subplots_adjust(hspace = .2)\n",
    "    \n",
    "    if (tr_key.find('accuracy') != -1):\n",
    "        ax = plt.gca()\n",
    "        ax.yaxis.set_major_formatter(mtick.PercentFormatter(1.0))\n",
    "    else:\n",
    "        plt.ylim([0,max_loss])\n",
    "\n",
    "    return rv"
   ]
  },
  {
   "cell_type": "code",
   "execution_count": null,
   "metadata": {},
   "outputs": [],
   "source": [
    "def plot_training_multiple(file, title, save):\n",
    "\n",
    "    run_folder = './saved_runs/'\n",
    "    files = os.listdir(run_folder)\n",
    "\n",
    "    age_hists = []\n",
    "    gender_hists = []\n",
    "    race_hists = []\n",
    "    age_lrs = []\n",
    "    gender_lrs = []\n",
    "    race_lrs = []\n",
    "    lrre = re.compile('lr_\\d+.\\d+')\n",
    "\n",
    "    found_age = False\n",
    "    found_gender = False\n",
    "    found_race = False\n",
    "    \n",
    "    \n",
    "    for f in files:\n",
    "        idx = f.find(file)\n",
    "        if idx != -1:\n",
    "            # lrs.append(lrre.search(f).group()[3:])\n",
    "            hist = pd.read_csv(run_folder + f, index_col=0)\n",
    "            hist = hist.to_dict('split')\n",
    "            hist = dict(zip(hist['index'],hist['data']))\n",
    "            age_idx = f.find(file + '_age')\n",
    "            gender_idx = f.find(file + '_gender')\n",
    "            race_idx = f.find(file + '_race')\n",
    "            if age_idx != -1:\n",
    "                found_age = True\n",
    "                age_lrs.append(lrre.search(f).group()[3:])\n",
    "                age_hists.append(hist)\n",
    "            elif gender_idx != -1:\n",
    "                found_gender = True\n",
    "                gender_lrs.append(lrre.search(f).group()[3:])\n",
    "                gender_hists.append(hist)\n",
    "            elif race_idx != -1:\n",
    "                found_race = True\n",
    "                race_lrs.append(lrre.search(f).group()[3:])\n",
    "                race_hists.append(hist)\n",
    "\n",
    "    fig = plt.figure(figsize=(10,10))\n",
    "    fig.suptitle(title)\n",
    "    age_clrs = 'bgrcmykw'[0:len(age_lrs)]\n",
    "    gender_clrs = 'bgrcmykw'[0:len(gender_lrs)]\n",
    "    race_clrs = 'bgrcmykw'[0:len(race_lrs)]\n",
    "\n",
    "\n",
    "    age_lrs, age_hists = zip(*sorted(zip(age_lrs,age_hists)))\n",
    "    gender_lrs, gender_hists = zip(*sorted(zip(gender_lrs,gender_hists)))\n",
    "    race_lrs, race_hists = zip(*sorted(zip(race_lrs,race_hists)))\n",
    "\n",
    "\n",
    "    n_h_plots = found_age + found_gender + found_race\n",
    "    cur_plot = 1\n",
    "    # acc_ax = plt.subplot(231)\n",
    "    # loss_ax = plt.subplot(234)\n",
    "    if (found_age):\n",
    "        print('plotting age')\n",
    "        acc_ax = plot_tr_vs_val(age_lrs, age_hists, age_clrs, 'accuracy', 'val_accuracy',  'Age Accuracy', (2,n_h_plots,cur_plot), None, False, save)\n",
    "        loss_ax = plot_tr_vs_val(age_lrs, age_hists, age_clrs, 'loss', 'val_loss', 'Age Loss', (2,n_h_plots,cur_plot + n_h_plots), None, True, save)\n",
    "        cur_plot += 1\n",
    "\n",
    "    if (found_gender):\n",
    "        print('plotting gender')\n",
    "        lg_ax = plot_tr_vs_val(gender_lrs, gender_hists, gender_clrs, 'accuracy', 'val_accuracy', 'Gender Accuracy', (2,n_h_plots,cur_plot), acc_ax, False, save)\n",
    "        plot_tr_vs_val(gender_lrs, gender_hists, gender_clrs, 'loss', 'val_loss', 'Gender Loss', (2,n_h_plots,cur_plot + n_h_plots), loss_ax, True, save)\n",
    "        cur_plot += 1\n",
    "\n",
    "    if (found_race):\n",
    "        print('plotting race')\n",
    "        plot_tr_vs_val(race_lrs, race_hists, race_clrs, 'accuracy', 'val_accuracy', 'Race Accuracy', (2,n_h_plots,cur_plot), acc_ax, False, save)\n",
    "        plot_tr_vs_val(race_lrs, race_hists, race_clrs, 'loss', 'val_loss', 'Race Loss', (2,n_h_plots,cur_plot + n_h_plots), loss_ax, True, save)\n",
    "        cur_plot += 1\n",
    "        \n",
    "    # ax = plt.gca()\n",
    "    lg_ax.legend(handles=create_legend(race_lrs, gender_clrs),bbox_to_anchor=(-1., 1.02, 3., .5), loc='lower left',mode=\"expand\",ncol=5,borderaxespad=2)\n",
    "\n",
    "    \n",
    "    if (save):\n",
    "        plt.savefig('./saved_plots/archive/' + title + ' ' + str(datetime.now().strftime(\"%m-%d-%Y %H:%M:%S\")) + '.png')\n",
    "        plt.savefig('./saved_plots/' + title + '.png')\n",
    "\n",
    "    plt.show()"
   ]
  },
  {
   "cell_type": "code",
   "execution_count": null,
   "metadata": {},
   "outputs": [],
   "source": [
    "def plot_training_single(file, title):\n",
    "\n",
    "    hist = pd.read_csv(file, index_col=0)\n",
    "    hist = hist.to_dict('split')\n",
    "    hist = dict(zip(hist['index'],hist['data']))\n",
    "\n",
    "    plt.plot(hist['accuracy'],label='training')\n",
    "    plt.plot(hist['val_accuracy'], label='validation')\n",
    "    plt.legend()\n",
    "    plt.title(title + ' Accuracy')\n",
    "    plt.xlabel('Epochs')\n",
    "    plt.ylabel('accuracy')\n",
    "    ax = plt.gca()\n",
    "    ax.yaxis.set_major_formatter(mtick.PercentFormatter(1.0))\n",
    "    plt.savefig('./saved_plots/' + title + '_Accuracy_' + str(datetime.now()) + '.png')\n",
    "    plt.show()\n",
    "\n",
    "    plt.plot(hist['loss'],label='training')\n",
    "    plt.plot(hist['val_loss'], label='validation')\n",
    "    plt.legend()\n",
    "    plt.title(title + ' Loss')\n",
    "    plt.xlabel('Epochs')\n",
    "    plt.ylabel('loss')\n",
    "    plt.savefig('./saved_plots/' + title + '_Loss_' + str(datetime.now()) + '.png')\n",
    "    plt.show()"
   ]
  },
  {
   "cell_type": "code",
   "execution_count": null,
   "metadata": {},
   "outputs": [],
   "source": [
    "plot_training_multiple('Task_1', 'Task 1', save=False)"
   ]
  },
  {
   "cell_type": "code",
   "execution_count": null,
   "metadata": {},
   "outputs": [],
   "source": [
    "plot_training_multiple('task_2', 'Task 2', save=True)"
   ]
  },
  {
   "cell_type": "code",
   "execution_count": null,
   "metadata": {},
   "outputs": [],
   "source": [
    "plot_training_multiple('task_3', 'Task 3', save=False)"
   ]
  },
  {
   "cell_type": "code",
   "execution_count": null,
   "metadata": {},
   "outputs": [],
   "source": [
    "def plot_training_4(file, title, save):\n",
    "    run_folder = './saved_runs/'\n",
    "    files = os.listdir(run_folder)\n",
    "\n",
    "    age_hists = []\n",
    "    gender_hists = []\n",
    "    race_hists = []\n",
    "    lrs = []\n",
    "    lrre = re.compile('lr_\\d+.\\d+')\n",
    "\n",
    "    for f in files:\n",
    "        idx = f.find(file)\n",
    "        if idx != -1:\n",
    "            # lrs.append(lrre.search(f).group()[3:])\n",
    "            hist = pd.read_csv(run_folder + f, index_col=0)\n",
    "            hist = hist.to_dict('split')\n",
    "            hist = dict(zip(hist['index'],hist['data']))\n",
    "            lrs.append(lrre.search(f).group()[3:])\n",
    "            age_hists.append(hist)\n",
    "            race_hists.append(hist)\n",
    "\n",
    "    fig = plt.figure(figsize=(10,10))\n",
    "    fig.suptitle(title)\n",
    "    clrs = 'bgrcmykw'[0:len(lrs)]\n",
    "\n",
    "    _, race_hists = zip(*sorted(zip(lrs,race_hists)))\n",
    "    lrs, age_hists = zip(*sorted(zip(lrs,age_hists)))\n",
    "\n",
    "\n",
    "    n_h_plots = 2\n",
    "    cur_plot = 1\n",
    "    # acc_ax = plt.subplot(231)\n",
    "    # loss_ax = plt.subplot(234)\n",
    "    print('plotting age')\n",
    "    lg_ax = acc_ax = plot_tr_vs_val(lrs, age_hists, clrs, 'age_accuracy', 'val_age_accuracy',  'Age Accuracy', (2,n_h_plots,cur_plot), None, False, save)\n",
    "    loss_ax = plot_tr_vs_val(lrs, age_hists, clrs, 'age_loss', 'val_age_loss', 'Age Loss', (2,n_h_plots,cur_plot + n_h_plots), None, True, save)\n",
    "    cur_plot += 1\n",
    "\n",
    "    print('plotting race')\n",
    "    plot_tr_vs_val(lrs, race_hists, clrs, 'race_accuracy', 'val_race_accuracy', 'Race Accuracy', (2,n_h_plots,cur_plot), acc_ax, False, save)\n",
    "    plot_tr_vs_val(lrs, race_hists, clrs, 'race_loss', 'val_race_loss', 'Race Loss', (2,n_h_plots,cur_plot + n_h_plots), loss_ax, True, save)\n",
    "    cur_plot += 1\n",
    "        \n",
    "    # ax = plt.gca()\n",
    "    lg_ax.legend(handles=create_legend(lrs, clrs),bbox_to_anchor=(0., 1.02, 2., .5), loc='lower left',mode=\"expand\",ncol=5,borderaxespad=2)\n",
    "\n",
    "    \n",
    "    if (save):\n",
    "        plt.savefig('./saved_plots/archive/' + title + ' ' + str(datetime.now().strftime(\"%m-%d-%Y %H:%M:%S\")) + '.png')\n",
    "        plt.savefig('./saved_plots/' + title + '.png')\n",
    "\n",
    "    plt.show()\n"
   ]
  },
  {
   "cell_type": "code",
   "execution_count": null,
   "metadata": {},
   "outputs": [],
   "source": [
    "plot_training_4('task_4', 'Task 4', save = False)"
   ]
  },
  {
   "cell_type": "code",
   "execution_count": 2,
   "metadata": {},
   "outputs": [],
   "source": [
    "d = read_data()"
   ]
  },
  {
   "cell_type": "code",
   "execution_count": 3,
   "metadata": {},
   "outputs": [],
   "source": [
    "def get_conf(d, file):\n",
    "    with open(file, 'rb') as f:\n",
    "        predictions = np.load(f)\n",
    "\n",
    "    return tf.math.confusion_matrix(d['age_v_labels'].argmax(axis=1), predictions.argmax(axis=1), num_classes=len(d['age_classes'])).numpy()"
   ]
  },
  {
   "cell_type": "code",
   "execution_count": 30,
   "metadata": {},
   "outputs": [],
   "source": [
    "def plot_confs(d, file, name, class_types):\n",
    "    fig = plt.figure(figsize=(5,2))\n",
    "    fig.suptitle(name + \" Confusion Matrix\")\n",
    "    # fig.tight_layout()\n",
    "    for i, c in enumerate(class_types):\n",
    "        conf = get_conf(d, file + f'_{c}preditions')\n",
    "        ax = plt.subplot(1,3,i+1)\n",
    "        plt.imshow(conf)\n",
    "        plt.title(c)\n",
    "        plt.setp(ax.get_yticklabels(), visible=False)\n",
    "        plt.setp(ax.get_xticklabels(), visible=False)\n",
    "    plt.savefig(name + \" Confusion Matrix\")\n",
    "    plt.show()\n"
   ]
  },
  {
   "cell_type": "code",
   "execution_count": 31,
   "metadata": {},
   "outputs": [
    {
     "data": {
      "image/png": "[encoded data removed]",
      "text/plain": "<Figure size 360x144 with 3 Axes>"
     },
     "metadata": {},
     "output_type": "display_data"
    },
    {
     "data": {
      "image/png": "[encoded data removed]",
      "text/plain": "<Figure size 360x144 with 3 Axes>"
     },
     "metadata": {},
     "output_type": "display_data"
    },
    {
     "data": {
      "image/png": "[encoded data removed]",
      "text/plain": "<Figure size 360x144 with 3 Axes>"
     },
     "metadata": {},
     "output_type": "display_data"
    },
    {
     "data": {
      "image/png": "[encoded data removed]",
      "text/plain": "<Figure size 360x144 with 2 Axes>"
     },
     "metadata": {},
     "output_type": "display_data"
    }
   ],
   "source": [
    "\n",
    "class_types = ['age', 'gender', 'race']\n",
    "t1 = plot_confs(d, './predictions/Task_1', 'Task 1', class_types)\n",
    "t2 = plot_confs(d, './predictions/task_2', 'Task 2', class_types)\n",
    "t3 = plot_confs(d, './predictions/task_3', 'Task 3', class_types)\n",
    "t3 = plot_confs(d, './predictions/task_4', 'Task 4', [class_types[0], class_types[2]])"
   ]
  },
  {
   "cell_type": "code",
   "execution_count": null,
   "metadata": {},
   "outputs": [],
   "source": [
    "\n",
    "# vae_model = tf.keras.models.load_model('vae_model')\n",
    "decoder_model = tf.keras.models.load_model('decoder_model')\n",
    "decoder_model.summary()\n"
   ]
  },
  {
   "cell_type": "code",
   "execution_count": null,
   "metadata": {},
   "outputs": [],
   "source": [
    "np.random.rand(9).shape"
   ]
  },
  {
   "cell_type": "code",
   "execution_count": null,
   "metadata": {},
   "outputs": [],
   "source": [
    "pred = decoder_model.predict(np.random.rand(1,9))"
   ]
  },
  {
   "cell_type": "code",
   "execution_count": null,
   "metadata": {},
   "outputs": [],
   "source": [
    "def plot_results(models,\n",
    "                 data,\n",
    "                 batch_size=128,\n",
    "                 model_name=\"vae_mnist\"):\n",
    "    \"\"\"Plots labels and MNIST digits as a function of the 2D latent vector\n",
    "\n",
    "    # Arguments\n",
    "        models (tuple): encoder and decoder models\n",
    "        data (tuple): test data and label\n",
    "        batch_size (int): prediction batch size\n",
    "        model_name (string): which model is using this function\n",
    "    \"\"\"\n",
    "\n",
    "    encoder, decoder = models\n",
    "    x_test, y_test = data\n",
    "    os.makedirs(model_name, exist_ok=True)\n",
    "\n",
    "    filename = os.path.join(model_name, \"vae_mean.png\")\n",
    "    # display a 2D plot of the digit classes in the latent space\n",
    "    z_mean, _, _ = encoder.predict(x_test,\n",
    "                                   batch_size=batch_size)\n",
    "    plt.figure(figsize=(12, 10))\n",
    "    plt.scatter(z_mean[:, 0], z_mean[:, 1], c=y_test)\n",
    "    plt.colorbar()\n",
    "    plt.xlabel(\"z[0]\")\n",
    "    plt.ylabel(\"z[1]\")\n",
    "    plt.savefig(filename)\n",
    "    plt.show()\n",
    "\n",
    "    filename = os.path.join(model_name, \"digits_over_latent.png\")\n",
    "    # display a 30x30 2D manifold of digits\n",
    "    n = 30\n",
    "    digit_size = 28\n",
    "    figure = np.zeros((digit_size * n, digit_size * n))\n",
    "    # linearly spaced coordinates corresponding to the 2D plot\n",
    "    # of digit classes in the latent space\n",
    "    grid_x = np.linspace(-4, 4, n)\n",
    "    grid_y = np.linspace(-4, 4, n)[::-1]\n",
    "\n",
    "    for i, yi in enumerate(grid_y):\n",
    "        for j, xi in enumerate(grid_x):\n",
    "            z_sample = np.array([[xi, yi]])\n",
    "            x_decoded = decoder.predict(z_sample)\n",
    "            digit = x_decoded[0].reshape(digit_size, digit_size)\n",
    "            figure[i * digit_size: (i + 1) * digit_size,\n",
    "                   j * digit_size: (j + 1) * digit_size] = digit\n",
    "\n",
    "    plt.figure(figsize=(10, 10))\n",
    "    start_range = digit_size // 2\n",
    "    end_range = (n - 1) * digit_size + start_range + 1\n",
    "    pixel_range = np.arange(start_range, end_range, digit_size)\n",
    "    sample_range_x = np.round(grid_x, 1)\n",
    "    sample_range_y = np.round(grid_y, 1)\n",
    "    plt.xticks(pixel_range, sample_range_x)\n",
    "    plt.yticks(pixel_range, sample_range_y)\n",
    "    plt.xlabel(\"z[0]\")\n",
    "    plt.ylabel(\"z[1]\")\n",
    "    plt.imshow(figure, cmap='Greys_r')\n",
    "    plt.savefig(filename)\n",
    "    plt.show()\n",
    "\n"
   ]
  },
  {
   "cell_type": "code",
   "execution_count": null,
   "metadata": {},
   "outputs": [],
   "source": []
  }
 ],
 "metadata": {
  "kernelspec": {
   "display_name": "Python 3.9.3 64-bit",
   "name": "python392jvsc74a57bd0767d51c1340bd893661ea55ea3124f6de3c7a262a8b4abca0554b478b1e2ff90"
  },
  "language_info": {
   "name": "python",
   "version": ""
  },
  "metadata": {
   "interpreter": {
    "hash": "e7370f93d1d0cde622a1f8e1c04877d8463912d04d973331ad4851f04de6915a"
   }
  },
  "orig_nbformat": 2
 },
 "nbformat": 4,
 "nbformat_minor": 2
}