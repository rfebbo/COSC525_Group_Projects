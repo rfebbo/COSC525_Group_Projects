{
 "cells": [
  {
   "cell_type": "code",
   "execution_count": 1,
   "metadata": {},
   "outputs": [],
   "source": [
    "import numpy as np\n",
    "import tensorflow as tf\n",
    "import os\n",
    "from PIL import Image\n",
    "import matplotlib.pyplot as plt\n",
    "import pandas as pd\n",
    "\n",
    "os.environ['TF_CPP_MIN_LOG_LEVEL'] = '3'\n",
    "\n",
    "if(len(os.sys.argv) > 1):\n",
    "    if os.sys.argv[1] == 'gpu':\n",
    "        physical_devices = tf.config.experimental.list_physical_devices('GPU')\n",
    "        assert len(physical_devices) > 0, \"Not enough GPU hardware devices available\"\n",
    "        config = tf.config.experimental.set_memory_growth(physical_devices[0], True)\n",
    "    elif os.sys.argv[1] == 'cpu':\n",
    "        os.environ['CUDA_VISIBLE_DEVICES']=\"\" \n",
    "else:\n",
    "    os.environ['CUDA_VISIBLE_DEVICES']=\"\""
   ]
  },
  {
   "cell_type": "code",
   "execution_count": 2,
   "metadata": {},
   "outputs": [
    {
     "data": {
      "text/plain": "['project3_COSC525.zip',\n '.ipynb_checkpoints',\n 'project3.pdf',\n 'training.ipynb',\n 'task1.py',\n '__pycache__',\n 'read_data.py',\n 'task2.py',\n 'reading.ipynb',\n 'project3_COSC525']"
     },
     "execution_count": 2,
     "metadata": {},
     "output_type": "execute_result"
    }
   ],
   "source": [
    "os.listdir('.')"
   ]
  },
  {
   "cell_type": "code",
   "execution_count": null,
   "metadata": {},
   "outputs": [],
   "source": [
    "\n",
    "import re\n",
    "\n",
    "def atoi(text):\n",
    "    return int(text) if text.isdigit() else text\n",
    "\n",
    "def natural_keys(text):\n",
    "    '''\n",
    "    alist.sort(key=natural_keys) sorts in human order\n",
    "    http://nedbatchelder.com/blog/200712/human_sorting.html\n",
    "    (See Toothy's implementation in the comments)\n",
    "    '''\n",
    "    return [ atoi(c) for c in re.split(r'(\\d+)', text) ]"
   ]
  },
  {
   "cell_type": "code",
   "execution_count": 4,
   "metadata": {},
   "outputs": [
    {
     "name": "stdout",
     "output_type": "stream",
     "text": [
      "86744\n",
      "10954\n"
     ]
    }
   ],
   "source": [
    "def read_imgs(path):\n",
    "    files = os.listdir(path)\n",
    "    files.sort(key=natural_keys)\n",
    "\n",
    "    images = []\n",
    "    for file in files:\n",
    "        pix = np.array(Image.open(path + file))\n",
    "        images.append(pix)\n",
    "\n",
    "    return np.asarray(images)\n",
    "\n",
    "\n",
    "train = read_imgs('./project3_COSC525/train/')\n",
    "val = read_imgs('./project3_COSC525/val/')\n",
    "\n",
    "\n",
    "train = np.asarray(train)\n",
    "val = np.asarray(val)\n",
    "\n",
    "print(len(train))\n",
    "print(len(val))"
   ]
  },
  {
   "cell_type": "code",
   "execution_count": 5,
   "metadata": {},
   "outputs": [
    {
     "data": {
      "text/plain": "<matplotlib.image.AxesImage at 0x7fc7ba55f880>"
     },
     "execution_count": 5,
     "metadata": {},
     "output_type": "execute_result"
    },
    {
     "data": {
      "image/png": "[encoded data removed]",
      "text/plain": "<Figure size 432x288 with 1 Axes>"
     },
     "metadata": {
      "needs_background": "light"
     },
     "output_type": "display_data"
    }
   ],
   "source": [
    "plt.imshow(train[0])"
   ]
  },
  {
   "cell_type": "code",
   "execution_count": 6,
   "metadata": {},
   "outputs": [
    {
     "name": "stdout",
     "output_type": "stream",
     "text": [
      "(86744, 32, 32)\n"
     ]
    }
   ],
   "source": [
    "print(train.shape)\n",
    "train_max = np.amax(train, axis=0)\n",
    "train_min = np.amin(train, axis=0)"
   ]
  },
  {
   "cell_type": "code",
   "execution_count": 7,
   "metadata": {},
   "outputs": [],
   "source": [
    "#normalize\n",
    "train_norm = (train - train_min) / (train_max - train_min)\n",
    "train_norm.shape\n",
    "val_norm = (val - train_min) / (train_max - train_min)\n",
    "\n",
    "train_norm = train_norm.reshape(-1,32,32,1)\n",
    "\n"
   ]
  },
  {
   "cell_type": "code",
   "execution_count": 8,
   "metadata": {},
   "outputs": [
    {
     "name": "stdout",
     "output_type": "stream",
     "text": [
      "(86744, 32, 32, 1)\n"
     ]
    }
   ],
   "source": [
    "print(train_norm.shape)"
   ]
  },
  {
   "cell_type": "code",
   "execution_count": 9,
   "metadata": {},
   "outputs": [],
   "source": [
    "train_labels = pd.read_csv('project3_COSC525/fairface_label_train.csv')\n",
    "val_labels = pd.read_csv('project3_COSC525/fairface_label_val.csv')"
   ]
  },
  {
   "cell_type": "code",
   "execution_count": 10,
   "metadata": {},
   "outputs": [],
   "source": [
    "age_classes = train_labels.age.unique()\n",
    "gender_classes = train_labels.gender.unique()\n",
    "race_classes = train_labels.race.unique()"
   ]
  },
  {
   "cell_type": "code",
   "execution_count": 11,
   "metadata": {},
   "outputs": [
    {
     "data": {
      "text/plain": "(7,)"
     },
     "execution_count": 11,
     "metadata": {},
     "output_type": "execute_result"
    }
   ],
   "source": [
    "race_classes.shape"
   ]
  },
  {
   "cell_type": "code",
   "execution_count": 12,
   "metadata": {},
   "outputs": [],
   "source": [
    "codes,_ = train_labels.race.factorize()\n"
   ]
  },
  {
   "cell_type": "code",
   "execution_count": 13,
   "metadata": {},
   "outputs": [],
   "source": [
    "codes\n",
    "labels = np.zeros((len(codes), race_classes.size))\n",
    "for i, c in enumerate(codes):\n",
    "    labels[i,c] = 1\n",
    "# print(labels.tolist())"
   ]
  },
  {
   "cell_type": "code",
   "execution_count": 32,
   "metadata": {},
   "outputs": [],
   "source": [
    "def encode(train, val):\n",
    "\n",
    "    t_codes, t_uniques = train.factorize()\n",
    "    train_labels = np.zeros((len(t_codes), len(train.unique())))\n",
    "\n",
    "    for i, c in enumerate(t_codes):\n",
    "        train_labels[i,c] = 1\n",
    "\n",
    "    v_codes, v_uniques = val.factorize()\n",
    "    val_labels = np.zeros((len(v_codes), len(val.unique())))\n",
    "\n",
    "    t_uniques = list(t_uniques)\n",
    "    v_uniques = list(v_uniques)\n",
    "    \n",
    "    for i, c in enumerate(v_codes):\n",
    "        val_labels[i,t_uniques.index(v_uniques[c])] = 1\n",
    "\n",
    "    return train_labels, val_labels"
   ]
  },
  {
   "cell_type": "code",
   "execution_count": 33,
   "metadata": {},
   "outputs": [],
   "source": [
    "age_t_labels, age_v_labels = encode(train_labels.age,val_labels.age)"
   ]
  },
  {
   "cell_type": "code",
   "execution_count": 34,
   "metadata": {},
   "outputs": [
    {
     "name": "stdout",
     "output_type": "stream",
     "text": [
      "[1. 0. 0. 0. 0. 0. 0. 0. 0.]\n",
      "50-59\n",
      "[0. 0. 1. 0. 0. 0. 0. 0. 0.]\n",
      "3-9\n",
      "Index(['50-59', '30-39', '3-9', '20-29', '40-49', '10-19', '60-69', '0-2',\n",
      "       'more than 70'],\n",
      "      dtype='object')\n",
      "Index(['3-9', '50-59', '30-39', '20-29', 'more than 70', '40-49', '10-19',\n",
      "       '60-69', '0-2'],\n",
      "      dtype='object')\n"
     ]
    }
   ],
   "source": [
    "print(age_t_labels[0])\n",
    "print(train_labels.age[0])\n",
    "print(age_v_labels[0])\n",
    "print(val_labels.age[0])\n",
    "print(u1)\n",
    "print(u2)"
   ]
  },
  {
   "cell_type": "code",
   "execution_count": null,
   "metadata": {},
   "outputs": [],
   "source": [
    "for n in range(10):\n",
    "    plt.imshow(train_norm[n])\n",
    "    plt.show()\n",
    "    print(train_labels.age[n])\n",
    "    print(train_labels.gender[n])\n",
    "    print(train_labels.race[n])"
   ]
  },
  {
   "cell_type": "code",
   "execution_count": null,
   "metadata": {},
   "outputs": [],
   "source": [
    "for n in range(10):\n",
    "    plt.imshow(val_norm[n])\n",
    "    plt.show()\n",
    "    print(val_labels.age[n])\n",
    "    print(val_labels.gender[n])\n",
    "    print(val_labels.race[n])"
   ]
  },
  {
   "cell_type": "code",
   "execution_count": null,
   "metadata": {},
   "outputs": [],
   "source": []
  }
 ],
 "metadata": {
  "kernelspec": {
   "display_name": "Python 3.9.2 64-bit",
   "name": "python392jvsc74a57bd0767d51c1340bd893661ea55ea3124f6de3c7a262a8b4abca0554b478b1e2ff90"
  },
  "language_info": {
   "codemirror_mode": {
    "name": "ipython",
    "version": 3
   },
   "file_extension": ".py",
   "mimetype": "text/x-python",
   "name": "python",
   "nbconvert_exporter": "python",
   "pygments_lexer": "ipython3",
   "version": "3.9.2"
  },
  "metadata": {
   "interpreter": {
    "hash": "767d51c1340bd893661ea55ea3124f6de3c7a262a8b4abca0554b478b1e2ff90"
   }
  },
  "orig_nbformat": 2
 },
 "nbformat": 4,
 "nbformat_minor": 2
}